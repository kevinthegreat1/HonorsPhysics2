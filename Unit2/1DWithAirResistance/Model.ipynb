{
 "cells": [
  {
   "cell_type": "markdown",
   "source": [
    "# Modeling 1D Air Resistance with Linear and Quadratic Models"
   ],
   "metadata": {
    "collapsed": false
   },
   "id": "ac610f0ba01e3cb8"
  },
  {
   "cell_type": "code",
   "execution_count": 14,
   "outputs": [],
   "source": [
    "# Import libraries\n",
    "import pandas as pd\n",
    "import math\n",
    "from scipy.optimize import curve_fit\n",
    "import matplotlib.pyplot as plt"
   ],
   "metadata": {
    "collapsed": false,
    "ExecuteTime": {
     "end_time": "2023-09-28T16:25:06.936118Z",
     "start_time": "2023-09-28T16:25:06.896404Z"
    }
   },
   "id": "13f7edccccbf39fd"
  },
  {
   "cell_type": "code",
   "execution_count": 15,
   "outputs": [],
   "source": [
    "# Constants\n",
    "gravitational_acceleration = 9.81  # m/s^2\n",
    "mass = 0.0036  # kg"
   ],
   "metadata": {
    "collapsed": false,
    "ExecuteTime": {
     "end_time": "2023-09-28T16:25:08.813845Z",
     "start_time": "2023-09-28T16:25:08.805962Z"
    }
   },
   "id": "a9b5989e4e35cffd"
  },
  {
   "cell_type": "code",
   "execution_count": 18,
   "outputs": [],
   "source": [
    "# Model Linear and Quadratic Air Resistance\n",
    "def model(name, time, position):\n",
    "    # Calculate velocities and accelerations\n",
    "    time_indexes = list(range(len(time)))\n",
    "    velocity = [0]\n",
    "    acceleration = [0]\n",
    "    for i in range(len(time) - 1):\n",
    "        velocity.append((position[i + 1] - position[i]) / (time[i + 1] - time[i]))\n",
    "        acceleration.append((velocity[i + 1] - velocity[i]) / (time[i + 1] - time[i]))\n",
    "\n",
    "    # Define linear and quadratic models\n",
    "    def linear_eval(time_index, coefficient):\n",
    "        return mass * (acceleration[time_index] - gravitational_acceleration) / coefficient\n",
    "\n",
    "    def quadratic_eval(time_index, coefficient):\n",
    "        return math.sqrt(mass * (acceleration[time_index] - gravitational_acceleration) / coefficient)\n",
    "\n",
    "    # Curve fit linear and quadratic models\n",
    "    linear_model = curve_fit(linear_eval, time_indexes, velocity)\n",
    "    quadratic_model = curve_fit(quadratic_eval, time_indexes, velocity)\n",
    "\n",
    "    # Plot data and models\n",
    "    plt.plot(time, velocity)\n",
    "    plt.plot(time, linear_model)\n",
    "    plt.plot(time, quadratic_model)\n",
    "    plt.title(\"Velocity (m/s) vs. Time (s)\")\n",
    "    plt.xlabel(\"Time (s)\")\n",
    "    plt.ylabel(\"Velocity (m/s)\")\n",
    "    plt.legend([\"Data\", \"Linear Model\", \"Quadratic Model\"])\n",
    "    plt.savefig(f\"{name}.png\", dpi=300)\n",
    "    plt.show()"
   ],
   "metadata": {
    "collapsed": false,
    "ExecuteTime": {
     "end_time": "2023-09-28T16:25:16.144886Z",
     "start_time": "2023-09-28T16:25:16.141622Z"
    }
   },
   "id": "65f843dffc624638"
  },
  {
   "cell_type": "code",
   "execution_count": 19,
   "outputs": [
    {
     "ename": "KeyboardInterrupt",
     "evalue": "",
     "output_type": "error",
     "traceback": [
      "\u001B[0;31m---------------------------------------------------------------------------\u001B[0m",
      "\u001B[0;31mKeyboardInterrupt\u001B[0m                         Traceback (most recent call last)",
      "Cell \u001B[0;32mIn[19], line 2\u001B[0m\n\u001B[1;32m      1\u001B[0m data1 \u001B[38;5;241m=\u001B[39m pd\u001B[38;5;241m.\u001B[39mread_csv(\u001B[38;5;124m\"\u001B[39m\u001B[38;5;124mSensor1.csv\u001B[39m\u001B[38;5;124m\"\u001B[39m)\n\u001B[0;32m----> 2\u001B[0m \u001B[43mmodel\u001B[49m\u001B[43m(\u001B[49m\u001B[38;5;124;43m\"\u001B[39;49m\u001B[38;5;124;43mSensor1\u001B[39;49m\u001B[38;5;124;43m\"\u001B[39;49m\u001B[43m,\u001B[49m\u001B[43m \u001B[49m\u001B[43mdata1\u001B[49m\u001B[43m[\u001B[49m\u001B[38;5;124;43m\"\u001B[39;49m\u001B[38;5;124;43mTime (s)\u001B[39;49m\u001B[38;5;124;43m\"\u001B[39;49m\u001B[43m]\u001B[49m\u001B[43m,\u001B[49m\u001B[43m \u001B[49m\u001B[43mdata1\u001B[49m\u001B[43m[\u001B[49m\u001B[38;5;124;43m\"\u001B[39;49m\u001B[38;5;124;43mPosition (m)\u001B[39;49m\u001B[38;5;124;43m\"\u001B[39;49m\u001B[43m]\u001B[49m\u001B[43m)\u001B[49m\n",
      "Cell \u001B[0;32mIn[18], line 19\u001B[0m, in \u001B[0;36mmodel\u001B[0;34m(name, time, position)\u001B[0m\n\u001B[1;32m     16\u001B[0m     \u001B[38;5;28;01mreturn\u001B[39;00m math\u001B[38;5;241m.\u001B[39msqrt(mass \u001B[38;5;241m*\u001B[39m (acceleration[time_index] \u001B[38;5;241m-\u001B[39m gravitational_acceleration) \u001B[38;5;241m/\u001B[39m coefficient)\n\u001B[1;32m     18\u001B[0m \u001B[38;5;66;03m# Curve fit linear and quadratic models\u001B[39;00m\n\u001B[0;32m---> 19\u001B[0m linear_model \u001B[38;5;241m=\u001B[39m \u001B[43mcurve_fit\u001B[49m(linear_eval, time_indexes, velocity)\n\u001B[1;32m     20\u001B[0m quadratic_model \u001B[38;5;241m=\u001B[39m curve_fit(quadratic_eval, time_indexes, velocity)\n\u001B[1;32m     22\u001B[0m \u001B[38;5;66;03m# Plot data and models\u001B[39;00m\n",
      "Cell \u001B[0;32mIn[18], line 19\u001B[0m, in \u001B[0;36mmodel\u001B[0;34m(name, time, position)\u001B[0m\n\u001B[1;32m     16\u001B[0m     \u001B[38;5;28;01mreturn\u001B[39;00m math\u001B[38;5;241m.\u001B[39msqrt(mass \u001B[38;5;241m*\u001B[39m (acceleration[time_index] \u001B[38;5;241m-\u001B[39m gravitational_acceleration) \u001B[38;5;241m/\u001B[39m coefficient)\n\u001B[1;32m     18\u001B[0m \u001B[38;5;66;03m# Curve fit linear and quadratic models\u001B[39;00m\n\u001B[0;32m---> 19\u001B[0m linear_model \u001B[38;5;241m=\u001B[39m \u001B[43mcurve_fit\u001B[49m(linear_eval, time_indexes, velocity)\n\u001B[1;32m     20\u001B[0m quadratic_model \u001B[38;5;241m=\u001B[39m curve_fit(quadratic_eval, time_indexes, velocity)\n\u001B[1;32m     22\u001B[0m \u001B[38;5;66;03m# Plot data and models\u001B[39;00m\n",
      "File \u001B[0;32m_pydevd_bundle/pydevd_cython_darwin_39_64.pyx:1179\u001B[0m, in \u001B[0;36m_pydevd_bundle.pydevd_cython_darwin_39_64.SafeCallWrapper.__call__\u001B[0;34m()\u001B[0m\n",
      "File \u001B[0;32m_pydevd_bundle/pydevd_cython_darwin_39_64.pyx:620\u001B[0m, in \u001B[0;36m_pydevd_bundle.pydevd_cython_darwin_39_64.PyDBFrame.trace_dispatch\u001B[0;34m()\u001B[0m\n",
      "File \u001B[0;32m_pydevd_bundle/pydevd_cython_darwin_39_64.pyx:929\u001B[0m, in \u001B[0;36m_pydevd_bundle.pydevd_cython_darwin_39_64.PyDBFrame.trace_dispatch\u001B[0;34m()\u001B[0m\n",
      "File \u001B[0;32m_pydevd_bundle/pydevd_cython_darwin_39_64.pyx:920\u001B[0m, in \u001B[0;36m_pydevd_bundle.pydevd_cython_darwin_39_64.PyDBFrame.trace_dispatch\u001B[0;34m()\u001B[0m\n",
      "File \u001B[0;32m_pydevd_bundle/pydevd_cython_darwin_39_64.pyx:317\u001B[0m, in \u001B[0;36m_pydevd_bundle.pydevd_cython_darwin_39_64.PyDBFrame.do_wait_suspend\u001B[0;34m()\u001B[0m\n",
      "File \u001B[0;32m~/Library/Application Support/JetBrains/Toolbox/apps/PyCharm-P/ch-0/232.9559.58/PyCharm.app/Contents/plugins/python/helpers/pydev/pydevd.py:1160\u001B[0m, in \u001B[0;36mPyDB.do_wait_suspend\u001B[0;34m(self, thread, frame, event, arg, send_suspend_message, is_unhandled_exception)\u001B[0m\n\u001B[1;32m   1157\u001B[0m         from_this_thread\u001B[38;5;241m.\u001B[39mappend(frame_id)\n\u001B[1;32m   1159\u001B[0m \u001B[38;5;28;01mwith\u001B[39;00m \u001B[38;5;28mself\u001B[39m\u001B[38;5;241m.\u001B[39m_threads_suspended_single_notification\u001B[38;5;241m.\u001B[39mnotify_thread_suspended(thread_id, stop_reason):\n\u001B[0;32m-> 1160\u001B[0m     \u001B[38;5;28;43mself\u001B[39;49m\u001B[38;5;241;43m.\u001B[39;49m\u001B[43m_do_wait_suspend\u001B[49m\u001B[43m(\u001B[49m\u001B[43mthread\u001B[49m\u001B[43m,\u001B[49m\u001B[43m \u001B[49m\u001B[43mframe\u001B[49m\u001B[43m,\u001B[49m\u001B[43m \u001B[49m\u001B[43mevent\u001B[49m\u001B[43m,\u001B[49m\u001B[43m \u001B[49m\u001B[43marg\u001B[49m\u001B[43m,\u001B[49m\u001B[43m \u001B[49m\u001B[43msuspend_type\u001B[49m\u001B[43m,\u001B[49m\u001B[43m \u001B[49m\u001B[43mfrom_this_thread\u001B[49m\u001B[43m)\u001B[49m\n",
      "File \u001B[0;32m~/Library/Application Support/JetBrains/Toolbox/apps/PyCharm-P/ch-0/232.9559.58/PyCharm.app/Contents/plugins/python/helpers/pydev/pydevd.py:1175\u001B[0m, in \u001B[0;36mPyDB._do_wait_suspend\u001B[0;34m(self, thread, frame, event, arg, suspend_type, from_this_thread)\u001B[0m\n\u001B[1;32m   1172\u001B[0m             \u001B[38;5;28mself\u001B[39m\u001B[38;5;241m.\u001B[39m_call_mpl_hook()\n\u001B[1;32m   1174\u001B[0m         \u001B[38;5;28mself\u001B[39m\u001B[38;5;241m.\u001B[39mprocess_internal_commands()\n\u001B[0;32m-> 1175\u001B[0m         \u001B[43mtime\u001B[49m\u001B[38;5;241;43m.\u001B[39;49m\u001B[43msleep\u001B[49m\u001B[43m(\u001B[49m\u001B[38;5;241;43m0.01\u001B[39;49m\u001B[43m)\u001B[49m\n\u001B[1;32m   1177\u001B[0m \u001B[38;5;28mself\u001B[39m\u001B[38;5;241m.\u001B[39mcancel_async_evaluation(get_current_thread_id(thread), \u001B[38;5;28mstr\u001B[39m(\u001B[38;5;28mid\u001B[39m(frame)))\n\u001B[1;32m   1179\u001B[0m \u001B[38;5;66;03m# process any stepping instructions\u001B[39;00m\n",
      "\u001B[0;31mKeyboardInterrupt\u001B[0m: "
     ]
    }
   ],
   "source": [
    "data1 = pd.read_csv(\"Sensor1.csv\")\n",
    "model(\"Sensor1\", data1[\"Time (s)\"], data1[\"Position (m)\"])"
   ],
   "metadata": {
    "collapsed": false,
    "ExecuteTime": {
     "end_time": "2023-09-28T16:25:32.807618Z",
     "start_time": "2023-09-28T16:25:18.048395Z"
    }
   },
   "id": "9660bc33234643bf"
  },
  {
   "cell_type": "code",
   "execution_count": 75,
   "outputs": [],
   "source": [],
   "metadata": {
    "collapsed": false,
    "ExecuteTime": {
     "end_time": "2023-09-28T15:59:01.624008Z",
     "start_time": "2023-09-28T15:59:01.607440Z"
    }
   },
   "id": "db29f4f26d7af789"
  }
 ],
 "metadata": {
  "kernelspec": {
   "display_name": "Python 3",
   "language": "python",
   "name": "python3"
  },
  "language_info": {
   "codemirror_mode": {
    "name": "ipython",
    "version": 2
   },
   "file_extension": ".py",
   "mimetype": "text/x-python",
   "name": "python",
   "nbconvert_exporter": "python",
   "pygments_lexer": "ipython2",
   "version": "2.7.6"
  }
 },
 "nbformat": 4,
 "nbformat_minor": 5
}
