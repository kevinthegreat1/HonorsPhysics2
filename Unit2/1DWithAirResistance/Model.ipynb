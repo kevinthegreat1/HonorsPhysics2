{
 "cells": [
  {
   "cell_type": "markdown",
   "source": [
    "# Modeling 1D Air Resistance with Linear and Quadratic Models"
   ],
   "metadata": {
    "collapsed": false
   },
   "id": "ac610f0ba01e3cb8"
  },
  {
   "cell_type": "code",
   "execution_count": 17,
   "outputs": [],
   "source": [
    "# Import libraries\n",
    "import math\n",
    "import scipy"
   ],
   "metadata": {
    "collapsed": false,
    "ExecuteTime": {
     "end_time": "2023-09-28T14:04:25.141115Z",
     "start_time": "2023-09-28T14:04:25.139695Z"
    }
   },
   "id": "13f7edccccbf39fd"
  },
  {
   "cell_type": "code",
   "execution_count": 18,
   "outputs": [],
   "source": [
    "# Constants\n",
    "gravitational_acceleration = 9.81  # m/s^2\n",
    "mass = 0.0036  # kg"
   ],
   "metadata": {
    "collapsed": false,
    "ExecuteTime": {
     "end_time": "2023-09-28T14:04:25.272282Z",
     "start_time": "2023-09-28T14:04:25.266432Z"
    }
   },
   "id": "a9b5989e4e35cffd"
  },
  {
   "cell_type": "code",
   "execution_count": 19,
   "outputs": [],
   "source": [
    "# Model Linear and Quadratic Air Resistance\n",
    "def model(time, position):\n",
    "    # Calculate velocities and accelerations\n",
    "    time_indexes = list(range(len(time)))\n",
    "    velocity = [0]\n",
    "    acceleration = [0]\n",
    "    for i in range(len(time) - 1):\n",
    "        velocity.append((position[i + 1] - position[i]) / (time[i + 1] - time[i]))\n",
    "        acceleration.append((velocity[i + 1] - velocity[i]) / (time[i + 1] - time[i]))\n",
    "\n",
    "    # Define linear and quadratic models\n",
    "    def linear_model(time_index, coefficient):\n",
    "        return mass * (acceleration[time_index] - gravitational_acceleration) / coefficient\n",
    "\n",
    "    def quadratic_model(time_index, coefficient):\n",
    "        return math.sqrt(mass * (acceleration[time_index] - gravitational_acceleration) / coefficient)\n",
    "\n",
    "    # Curve fit linear and quadratic models\n",
    "    scipy.optimize(linear_model, time_indexes, velocity)\n",
    "    scipy.optimize(quadratic_model, time_indexes, velocity)"
   ],
   "metadata": {
    "collapsed": false,
    "ExecuteTime": {
     "end_time": "2023-09-28T14:04:25.412323Z",
     "start_time": "2023-09-28T14:04:25.407721Z"
    }
   },
   "id": "65f843dffc624638"
  },
  {
   "cell_type": "code",
   "execution_count": null,
   "outputs": [],
   "source": [],
   "metadata": {
    "collapsed": false
   },
   "id": "9660bc33234643bf"
  }
 ],
 "metadata": {
  "kernelspec": {
   "display_name": "Python 3",
   "language": "python",
   "name": "python3"
  },
  "language_info": {
   "codemirror_mode": {
    "name": "ipython",
    "version": 2
   },
   "file_extension": ".py",
   "mimetype": "text/x-python",
   "name": "python",
   "nbconvert_exporter": "python",
   "pygments_lexer": "ipython2",
   "version": "2.7.6"
  }
 },
 "nbformat": 4,
 "nbformat_minor": 5
}
