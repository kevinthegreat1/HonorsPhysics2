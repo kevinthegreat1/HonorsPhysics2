{
 "cells": [
  {
   "cell_type": "code",
   "execution_count": 39,
   "outputs": [],
   "source": [
    "import math\n",
    "import matplotlib.pyplot as plt"
   ],
   "metadata": {
    "collapsed": false,
    "ExecuteTime": {
     "end_time": "2023-09-20T13:31:54.866081Z",
     "start_time": "2023-09-20T13:31:54.861423Z"
    }
   },
   "id": "b18cc91197b5bc28"
  },
  {
   "cell_type": "code",
   "execution_count": 40,
   "id": "initial_id",
   "metadata": {
    "collapsed": true,
    "ExecuteTime": {
     "end_time": "2023-09-20T13:31:54.866988Z",
     "start_time": "2023-09-20T13:31:54.864493Z"
    }
   },
   "outputs": [],
   "source": [
    "x = 0\n",
    "y = 0\n",
    "angle = math.pi / 4  # the angle from the horizontal in radians\n",
    "velocity = 1\n",
    "deltaTime = 0.01\n",
    "gravitationalAcceleration = -9.81"
   ]
  },
  {
   "cell_type": "code",
   "execution_count": 41,
   "outputs": [],
   "source": [
    "xVelocity = math.cos(angle) * velocity\n",
    "yVelocity = math.sin(angle) * velocity"
   ],
   "metadata": {
    "collapsed": false,
    "ExecuteTime": {
     "end_time": "2023-09-20T13:31:54.873540Z",
     "start_time": "2023-09-20T13:31:54.867285Z"
    }
   },
   "id": "e6e95f8c9f125091"
  },
  {
   "cell_type": "code",
   "execution_count": 42,
   "outputs": [],
   "source": [
    "xList = []\n",
    "yList = []"
   ],
   "metadata": {
    "collapsed": false,
    "ExecuteTime": {
     "end_time": "2023-09-20T13:31:54.873761Z",
     "start_time": "2023-09-20T13:31:54.870452Z"
    }
   },
   "id": "c48253fbb62bc031"
  },
  {
   "cell_type": "code",
   "execution_count": 43,
   "outputs": [],
   "source": [
    "while y >= 0:\n",
    "    xList.append(x)\n",
    "    yList.append(y)\n",
    "    yVelocity += gravitationalAcceleration * deltaTime\n",
    "    x += xVelocity\n",
    "    y += yVelocity"
   ],
   "metadata": {
    "collapsed": false,
    "ExecuteTime": {
     "end_time": "2023-09-20T13:31:54.879296Z",
     "start_time": "2023-09-20T13:31:54.876008Z"
    }
   },
   "id": "1fa28d155edf9bc2"
  },
  {
   "cell_type": "code",
   "execution_count": 44,
   "outputs": [
    {
     "data": {
      "text/plain": "[<matplotlib.lines.Line2D at 0x124c32640>]"
     },
     "execution_count": 44,
     "metadata": {},
     "output_type": "execute_result"
    },
    {
     "data": {
      "text/plain": "<Figure size 640x480 with 1 Axes>",
      "image/png": "[encoded data removed]"
     },
     "metadata": {},
     "output_type": "display_data"
    }
   ],
   "source": [
    "plt.plot(xList, yList, \"x\", color = \"red\")"
   ],
   "metadata": {
    "collapsed": false,
    "ExecuteTime": {
     "end_time": "2023-09-20T13:31:54.960926Z",
     "start_time": "2023-09-20T13:31:54.879096Z"
    }
   },
   "id": "dc3a18e403acf261"
  },
  {
   "cell_type": "code",
   "execution_count": 44,
   "outputs": [],
   "source": [],
   "metadata": {
    "collapsed": false,
    "ExecuteTime": {
     "end_time": "2023-09-20T13:31:54.969297Z",
     "start_time": "2023-09-20T13:31:54.961494Z"
    }
   },
   "id": "a69c63e9812ebee8"
  }
 ],
 "metadata": {
  "kernelspec": {
   "display_name": "Python 3",
   "language": "python",
   "name": "python3"
  },
  "language_info": {
   "codemirror_mode": {
    "name": "ipython",
    "version": 2
   },
   "file_extension": ".py",
   "mimetype": "text/x-python",
   "name": "python",
   "nbconvert_exporter": "python",
   "pygments_lexer": "ipython2",
   "version": "2.7.6"
  }
 },
 "nbformat": 4,
 "nbformat_minor": 5
}
