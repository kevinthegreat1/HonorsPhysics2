{
 "cells": [
  {
   "metadata": {},
   "cell_type": "markdown",
   "source": "# Modeling and the Temperature of the Earth with the Atmosphere using Absorption Spectra Data",
   "id": "9155381fd0cd04bc"
  },
  {
   "metadata": {},
   "cell_type": "code",
   "source": [
    "# Import Libraries\n",
    "import pandas as pd\n",
    "import functools\n",
    "import math\n",
    "import numpy as np\n",
    "from tqdm import tqdm\n",
    "from scipy.optimize import curve_fit\n",
    "import matplotlib.pyplot as plt\n",
    "from Unit0 import model_utils"
   ],
   "id": "6c4c8b815d188cf6",
   "outputs": [],
   "execution_count": null
  },
  {
   "metadata": {},
   "cell_type": "code",
   "source": [
    "# Constants\n",
    "plancks_constant = 6.62607015e-34\n",
    "speed_of_light = 299792458\n",
    "boltzmann_constant = 1.380649e-23"
   ],
   "id": "1062a60cdf461fd6",
   "outputs": [],
   "execution_count": null
  },
  {
   "metadata": {},
   "cell_type": "code",
   "source": [
    "# Define Calculation Functions\n",
    "def plancks_law(wavelength, temperature):\n",
    "    return 2 * plancks_constant * speed_of_light ** 2 / wavelength ** 5 / math.expm1(plancks_constant * speed_of_light / wavelength / boltzmann_constant / temperature)\n",
    "\n",
    "\n",
    "def spectral_radiance(wavelength, temperature, transmittances: []):\n",
    "    return plancks_law(wavelength, temperature) * functools.reduce(lambda x, y: x * y, transmittances)\n",
    "\n",
    "\n",
    "def radiance(wavelengths, temperature, transmittances: []):\n",
    "    delta_wavelength = wavelengths[1] - wavelengths[0]\n",
    "    return functools.reduce(lambda x, y: x + y, [\n",
    "        spectral_radiance(wavelength, temperature, transmittances) * delta_wavelength for wavelength in wavelengths])"
   ],
   "id": "29a9da05bc73175c",
   "outputs": [],
   "execution_count": null
  },
  {
   "metadata": {},
   "cell_type": "code",
   "source": [
    "# Load Data\n",
    "data1 = pd.read_csv(\"Data/Absorption 0.1-3 Microns.csv\")\n",
    "data2 = pd.read_csv(\"Data/Absorption 3-12 Microns.csv\")\n",
    "data3 = pd.read_csv(\"Data/Absorption 12-40 Microns.csv\")"
   ],
   "id": "225d62beb292be59",
   "outputs": [],
   "execution_count": null
  },
  {
   "metadata": {},
   "cell_type": "code",
   "source": [
    "# Process data into lists of tuples of wavelength and transmittance\n",
    "\n",
    "# 0.1 to 3 microns\n",
    "transmittance_1_h2o = list(zip(data1[\"H2O Wavelength (microns)\"], data1[\"H2O Transmittance\"]))\n",
    "transmittance_1_co2 = list(zip(data1[\"CO2 Wavelength (microns)\"], data1[\"CO2 Transmittance\"]))\n",
    "transmittance_1_ch4 = list(zip(data1[\"CH4 Wavelength (microns)\"], data1[\"CH4 Transmittance\"]))\n",
    "transmittance_1_o3 = list(zip(data1[\"O3 Wavelength (microns)\"], data1[\"O3 Transmittance\"]))\n",
    "transmittance_1_n2o = list(zip(data1[\"N2O Wavelength (microns)\"], data1[\"N2O Transmittance\"]))\n",
    "transmittance_1_n2 = list(zip(data1[\"N2 Wavelength (microns)\"], data1[\"N2 Transmittance\"]))\n",
    "transmittance_1_o2 = list(zip(data1[\"O2 Wavelength (microns)\"], data1[\"O2 Transmittance\"]))\n",
    "\n",
    "# 3 to 12 microns\n",
    "transmittance_2_h2o = list(zip(data2[\"Wavelength (microns)\"], data2[\"H2O Transmittance\"]))\n",
    "transmittance_2_co2 = list(zip(data2[\"Wavelength (microns)\"], data2[\"CO2 Transmittance\"]))\n",
    "transmittance_2_ch4 = list(zip(data2[\"Wavelength (microns)\"], data2[\"CH4 Transmittance\"]))\n",
    "transmittance_2_o3 = list(zip(data2[\"Wavelength (microns)\"], data2[\"O3 Transmittance\"]))\n",
    "transmittance_2_n2o = list(zip(data2[\"Wavelength (microns)\"], data2[\"N2O Transmittance\"]))\n",
    "transmittance_2_n2 = list(zip(data2[\"Wavelength (microns)\"], data2[\"N2 Transmittance\"]))\n",
    "transmittance_2_o2 = list(zip(data2[\"Wavelength (microns)\"], data2[\"O2 Transmittance\"]))\n",
    "\n",
    "# 12 to 40 microns\n",
    "transmittance_3_h2o = list(zip(data3[\"Wavelength (microns)\"], data3[\"H2O Transmittance\"]))\n",
    "transmittance_3_co2 = list(zip(data3[\"Wavelength (microns)\"], data3[\"CO2 Transmittance\"]))\n",
    "transmittance_3_ch4 = list(zip(data3[\"Wavelength (microns)\"], data3[\"CH4 Transmittance\"]))\n",
    "transmittance_3_o3 = list(zip(data3[\"Wavelength (microns)\"], data3[\"O3 Transmittance\"]))\n",
    "transmittance_3_n2o = list(zip(data3[\"Wavelength (microns)\"], data3[\"N2O Transmittance\"]))\n",
    "transmittance_3_n2 = list(zip(data3[\"Wavelength (microns)\"], data3[\"N2 Transmittance\"]))\n",
    "transmittance_3_o2 = list(zip(data3[\"Wavelength (microns)\"], data3[\"O2 Transmittance\"]))\n",
    "\n",
    "# Combine the groups of wavelengths into one list for each component of absorption\n",
    "transmittance_h2o = transmittance_1_h2o + transmittance_2_h2o + transmittance_3_h2o\n",
    "transmittance_co2 = transmittance_1_co2 + transmittance_2_co2 + transmittance_3_co2\n",
    "transmittance_ch4 = transmittance_1_ch4 + transmittance_2_ch4 + transmittance_3_ch4\n",
    "transmittance_o3 = transmittance_1_o3 + transmittance_2_o3 + transmittance_3_o3\n",
    "transmittance_n2o = transmittance_1_n2o + transmittance_2_n2o + transmittance_3_n2o\n",
    "transmittance_n2 = transmittance_1_n2 + transmittance_2_n2 + transmittance_3_n2\n",
    "transmittance_o2 = transmittance_1_o2 + transmittance_2_o2 + transmittance_3_o2"
   ],
   "id": "6fffad37b5ee5",
   "outputs": [],
   "execution_count": null
  }
 ],
 "metadata": {
  "kernelspec": {
   "display_name": "Python 3",
   "language": "python",
   "name": "python3"
  },
  "language_info": {
   "codemirror_mode": {
    "name": "ipython",
    "version": 2
   },
   "file_extension": ".py",
   "mimetype": "text/x-python",
   "name": "python",
   "nbconvert_exporter": "python",
   "pygments_lexer": "ipython2",
   "version": "2.7.6"
  }
 },
 "nbformat": 4,
 "nbformat_minor": 5
}
