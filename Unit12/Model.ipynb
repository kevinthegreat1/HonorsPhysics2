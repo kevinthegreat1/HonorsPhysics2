{
 "cells": [
  {
   "metadata": {},
   "cell_type": "markdown",
   "source": "# Modeling and the Temperature of the Earth with the Atmosphere using Absorption Spectra Data",
   "id": "9155381fd0cd04bc"
  },
  {
   "metadata": {
    "ExecuteTime": {
     "end_time": "2024-04-23T16:39:05.606569Z",
     "start_time": "2024-04-23T16:39:05.593819Z"
    }
   },
   "cell_type": "code",
   "source": [
    "# Import Libraries\n",
    "import pandas as pd\n",
    "import math\n",
    "import numpy as np\n",
    "import functools\n",
    "import bisect\n",
    "from tqdm import tqdm\n",
    "from scipy.optimize import curve_fit\n",
    "import matplotlib.pyplot as plt\n",
    "from Unit0 import model_utils"
   ],
   "id": "6c4c8b815d188cf6",
   "outputs": [],
   "execution_count": 34
  },
  {
   "metadata": {
    "ExecuteTime": {
     "end_time": "2024-04-23T16:39:05.620381Z",
     "start_time": "2024-04-23T16:39:05.617615Z"
    }
   },
   "cell_type": "code",
   "source": [
    "# Constants\n",
    "plancks_constant = 6.62607015e-34\n",
    "speed_of_light = 299792458\n",
    "boltzmann_constant = 1.380649e-23"
   ],
   "id": "1062a60cdf461fd6",
   "outputs": [],
   "execution_count": 35
  },
  {
   "metadata": {
    "ExecuteTime": {
     "end_time": "2024-04-23T16:39:05.639231Z",
     "start_time": "2024-04-23T16:39:05.635976Z"
    }
   },
   "cell_type": "code",
   "source": [
    "# Define Calculation Functions\n",
    "def plancks_law(wavelength, temperature):\n",
    "    return 2 * plancks_constant * speed_of_light ** 2 / wavelength ** 5 / math.expm1(plancks_constant * speed_of_light / wavelength / boltzmann_constant / temperature)\n",
    "\n",
    "\n",
    "def spectral_radiance(wavelength, temperature, transmittances: []):\n",
    "    return plancks_law(wavelength, temperature) * functools.reduce(lambda x, y: x * y, transmittances)\n",
    "\n",
    "\n",
    "def radiance(wavelengths, temperature, transmittances: []):\n",
    "    delta_wavelength = wavelengths[1] - wavelengths[0]\n",
    "    return functools.reduce(lambda x, y: x + y, [\n",
    "        spectral_radiance(wavelength, temperature, transmittances) * delta_wavelength for wavelength in wavelengths])"
   ],
   "id": "29a9da05bc73175c",
   "outputs": [],
   "execution_count": 36
  },
  {
   "metadata": {
    "ExecuteTime": {
     "end_time": "2024-04-23T16:39:05.734144Z",
     "start_time": "2024-04-23T16:39:05.643190Z"
    }
   },
   "cell_type": "code",
   "source": [
    "# Load Data\n",
    "data1 = pd.read_csv(\"Data/Absorption 0.1-3 Microns.csv\")\n",
    "data2 = pd.read_csv(\"Data/Absorption 3-12 Microns.csv\")\n",
    "data3 = pd.read_csv(\"Data/Absorption 12-40 Microns.csv\")"
   ],
   "id": "225d62beb292be59",
   "outputs": [],
   "execution_count": 37
  },
  {
   "metadata": {
    "ExecuteTime": {
     "end_time": "2024-04-23T16:39:05.861706Z",
     "start_time": "2024-04-23T16:39:05.735325Z"
    }
   },
   "cell_type": "code",
   "source": [
    "# Process data into lists of tuples of wavelength and transmittance\n",
    "\n",
    "# 0.1 to 3 microns\n",
    "transmittance_1_h2o = list(zip(data1[\"H2O Wavelength (microns)\"], data1[\"H2O Transmittance\"]))\n",
    "transmittance_1_co2 = list(zip(data1[\"CO2 Wavelength (microns)\"], data1[\"CO2 Transmittance\"]))\n",
    "transmittance_1_ch4 = list(zip(data1[\"CH4 Wavelength (microns)\"], data1[\"CH4 Transmittance\"]))\n",
    "transmittance_1_o3 = list(zip(data1[\"O3 Wavelength (microns)\"], data1[\"O3 Transmittance\"]))\n",
    "transmittance_1_n2o = list(zip(data1[\"N2O Wavelength (microns)\"], data1[\"N2O Transmittance\"]))\n",
    "transmittance_1_n2 = list(zip(data1[\"N2 Wavelength (microns)\"], data1[\"N2 Transmittance\"]))\n",
    "transmittance_1_o2 = list(zip(data1[\"O2 Wavelength (microns)\"], data1[\"O2 Transmittance\"]))\n",
    "\n",
    "# 3 to 12 microns\n",
    "transmittance_2_h2o = list(zip(data2[\"Wavelength (microns)\"], data2[\"H2O Transmittance\"]))\n",
    "transmittance_2_co2 = list(zip(data2[\"Wavelength (microns)\"], data2[\"CO2 Transmittance\"]))\n",
    "transmittance_2_ch4 = list(zip(data2[\"Wavelength (microns)\"], data2[\"CH4 Transmittance\"]))\n",
    "transmittance_2_o3 = list(zip(data2[\"Wavelength (microns)\"], data2[\"O3 Transmittance\"]))\n",
    "transmittance_2_n2o = list(zip(data2[\"Wavelength (microns)\"], data2[\"N2O Transmittance\"]))\n",
    "transmittance_2_n2 = list(zip(data2[\"Wavelength (microns)\"], data2[\"N2 Transmittance\"]))\n",
    "transmittance_2_o2 = list(zip(data2[\"Wavelength (microns)\"], data2[\"O2 Transmittance\"]))\n",
    "\n",
    "# 12 to 40 microns\n",
    "transmittance_3_h2o = list(zip(data3[\"Wavelength (microns)\"], data3[\"H2O Transmittance\"]))\n",
    "transmittance_3_co2 = list(zip(data3[\"Wavelength (microns)\"], data3[\"CO2 Transmittance\"]))\n",
    "transmittance_3_ch4 = list(zip(data3[\"Wavelength (microns)\"], data3[\"CH4 Transmittance\"]))\n",
    "transmittance_3_o3 = list(zip(data3[\"Wavelength (microns)\"], data3[\"O3 Transmittance\"]))\n",
    "transmittance_3_n2o = list(zip(data3[\"Wavelength (microns)\"], data3[\"N2O Transmittance\"]))\n",
    "transmittance_3_n2 = list(zip(data3[\"Wavelength (microns)\"], data3[\"N2 Transmittance\"]))\n",
    "transmittance_3_o2 = list(zip(data3[\"Wavelength (microns)\"], data3[\"O2 Transmittance\"]))\n",
    "\n",
    "# Combine the groups of wavelengths into one list for each component of absorption\n",
    "transmittance_h2o = transmittance_1_h2o + transmittance_2_h2o + transmittance_3_h2o\n",
    "transmittance_co2 = transmittance_1_co2 + transmittance_2_co2 + transmittance_3_co2\n",
    "transmittance_ch4 = transmittance_1_ch4 + transmittance_2_ch4 + transmittance_3_ch4\n",
    "transmittance_o3 = transmittance_1_o3 + transmittance_2_o3 + transmittance_3_o3\n",
    "transmittance_n2o = transmittance_1_n2o + transmittance_2_n2o + transmittance_3_n2o\n",
    "transmittance_n2 = transmittance_1_n2 + transmittance_2_n2 + transmittance_3_n2\n",
    "transmittance_o2 = transmittance_1_o2 + transmittance_2_o2 + transmittance_3_o2"
   ],
   "id": "6fffad37b5ee5",
   "outputs": [],
   "execution_count": 38
  },
  {
   "metadata": {
    "ExecuteTime": {
     "end_time": "2024-04-23T16:39:05.865420Z",
     "start_time": "2024-04-23T16:39:05.862307Z"
    }
   },
   "cell_type": "code",
   "source": [
    "# Finds value in a less than or equal to x\n",
    "def find_le(a, x, key):\n",
    "    i = bisect.bisect(a, x, key=key)\n",
    "    return a[i - 1 if i else 0]\n",
    "\n",
    "\n",
    "# Finds value in a greater than or equal to x\n",
    "def find_ge(a, x, key):\n",
    "    i = bisect.bisect_left(a, x, key=key)\n",
    "    return a[i if i < len(a) else i - 1]\n",
    "\n",
    "\n",
    "# Interpolates value of x based on lower and upper bounds in a\n",
    "def interpolate(a, x):\n",
    "    key = lambda p: p[0]\n",
    "    value = lambda p: p[1]\n",
    "    p0 = find_le(a, x, key)\n",
    "    p1 = find_ge(a, x, key)\n",
    "    x0 = key(p0)\n",
    "    x1 = key(p1)\n",
    "    y0 = value(p0)\n",
    "    if x0 == x1:\n",
    "        return y0\n",
    "    y1 = value(p1)\n",
    "    return y0 + (y1 - y0) / (x1 - x0) * (x - x0)"
   ],
   "id": "ebab7c78ab2a8a0e",
   "outputs": [],
   "execution_count": 39
  },
  {
   "metadata": {
    "ExecuteTime": {
     "end_time": "2024-04-23T16:39:05.869339Z",
     "start_time": "2024-04-23T16:39:05.867402Z"
    }
   },
   "cell_type": "code",
   "source": "",
   "id": "595993f017b705d6",
   "outputs": [],
   "execution_count": 39
  }
 ],
 "metadata": {
  "kernelspec": {
   "display_name": "Python 3",
   "language": "python",
   "name": "python3"
  },
  "language_info": {
   "codemirror_mode": {
    "name": "ipython",
    "version": 2
   },
   "file_extension": ".py",
   "mimetype": "text/x-python",
   "name": "python",
   "nbconvert_exporter": "python",
   "pygments_lexer": "ipython2",
   "version": "2.7.6"
  }
 },
 "nbformat": 4,
 "nbformat_minor": 5
}
